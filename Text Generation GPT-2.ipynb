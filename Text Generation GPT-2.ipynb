{
  "nbformat": 4,
  "nbformat_minor": 0,
  "metadata": {
    "colab": {
      "name": "Vijay - Text Generation - Final - 2 epoch",
      "provenance": [],
      "collapsed_sections": []
    },
    "kernelspec": {
      "name": "python3",
      "display_name": "Python 3"
    },
    "accelerator": "GPU"
  },
  "cells": [
    {
      "cell_type": "markdown",
      "metadata": {
        "id": "m0j4AEj7WJYz",
        "colab_type": "text"
      },
      "source": [
        "# Text Generation using GPT2"
      ]
    },
    {
      "cell_type": "markdown",
      "metadata": {
        "id": "DBrxsq7VqerF",
        "colab_type": "text"
      },
      "source": [
        "Copyright @ 2020 **ABCOM Information Systems Pvt. Ltd.** All Rights Reserved.\n",
        "\n",
        "Licensed under the Apache License, Version 2.0 (the \"License\"); you may not use this file except in compliance with the License. You may obtain a copy of the License at\n",
        "\n",
        "http://www.apache.org/licenses/LICENSE-2.0\n",
        "\n",
        "Unless required by applicable law or agreed to in writing, software distributed under the License is distributed on an \"AS IS\" BASIS, WITHOUT WARRANTIES OR CONDITIONS OF ANY KIND, either express or implied.\n",
        "\n",
        "See the License for the specific language governing permissions and limitations under the License."
      ]
    },
    {
      "cell_type": "markdown",
      "metadata": {
        "id": "0OFVW_HqhXcu",
        "colab_type": "text"
      },
      "source": [
        "# Installing packages"
      ]
    },
    {
      "cell_type": "code",
      "metadata": {
        "id": "GE243dPaG1Kp",
        "colab_type": "code",
        "colab": {}
      },
      "source": [
        "!pip install git+https://github.com/huggingface/transformers"
      ],
      "execution_count": null,
      "outputs": []
    },
    {
      "cell_type": "code",
      "metadata": {
        "id": "RPz3a8khG2E0",
        "colab_type": "code",
        "colab": {}
      },
      "source": [
        "!pip install --upgrade pyarrow"
      ],
      "execution_count": null,
      "outputs": []
    },
    {
      "cell_type": "markdown",
      "metadata": {
        "id": "dnwcMpKZhwB_",
        "colab_type": "text"
      },
      "source": [
        "# Loading Data"
      ]
    },
    {
      "cell_type": "code",
      "metadata": {
        "id": "iZwMfmmCG2J7",
        "colab_type": "code",
        "colab": {}
      },
      "source": [
        "# Download the Shakespeare's text.\n",
        "!wget https://raw.githubusercontent.com/karpathy/char-rnn/master/data/tinyshakespeare/input.txt"
      ],
      "execution_count": null,
      "outputs": []
    },
    {
      "cell_type": "code",
      "metadata": {
        "id": "BudonDHOG2Se",
        "colab_type": "code",
        "colab": {}
      },
      "source": [
        "!mkdir output"
      ],
      "execution_count": null,
      "outputs": []
    },
    {
      "cell_type": "markdown",
      "metadata": {
        "id": "feeMzUOaW3XB",
        "colab_type": "text"
      },
      "source": [
        "# Fine tuning for new dataset"
      ]
    },
    {
      "cell_type": "code",
      "metadata": {
        "id": "jpi5J8vUYNtJ",
        "colab_type": "code",
        "colab": {}
      },
      "source": [
        "!wget https://raw.githubusercontent.com/huggingface/transformers/master/examples/language-modeling/run_language_modeling.py"
      ],
      "execution_count": null,
      "outputs": []
    },
    {
      "cell_type": "code",
      "metadata": {
        "id": "rSQnTv70G2WM",
        "colab_type": "code",
        "colab": {}
      },
      "source": [
        "!python run_language_modeling.py \\\n",
        "    --output_dir=output \\\n",
        "    --model_type=gpt2 \\\n",
        "    --model_name_or_path=gpt2 \\\n",
        "    --do_train \\\n",
        "    --train_data_file='/content/input.txt' \\\n",
        "    --per_gpu_train_batch_size=1 \\\n",
        "    --save_steps=-1 \\\n",
        "    --num_train_epochs=2"
      ],
      "execution_count": null,
      "outputs": []
    },
    {
      "cell_type": "markdown",
      "metadata": {
        "id": "UIhBZ7rLXFQe",
        "colab_type": "text"
      },
      "source": [
        "# Loading Tokenizer and Model"
      ]
    },
    {
      "cell_type": "code",
      "metadata": {
        "id": "jaXpzPq-IOnN",
        "colab_type": "code",
        "colab": {}
      },
      "source": [
        "from transformers import GPT2Tokenizer, GPT2LMHeadModel\n",
        "\n",
        "tokenizer = GPT2Tokenizer.from_pretrained('/content/output')\n",
        "model = GPT2LMHeadModel.from_pretrained('/content/output')"
      ],
      "execution_count": null,
      "outputs": []
    },
    {
      "cell_type": "markdown",
      "metadata": {
        "id": "gJN_4O4YXamO",
        "colab_type": "text"
      },
      "source": [
        "# Generating Text"
      ]
    },
    {
      "cell_type": "markdown",
      "metadata": {
        "id": "tVn4mv_GKWhC",
        "colab_type": "text"
      },
      "source": [
        "## Greedy Search\n",
        "This is a very basic searching algorithm which selects the word with highest probability as its next word and doesn't use other words with lesser probability.\n",
        "The code for implementing greedy search with our model is given below."
      ]
    },
    {
      "cell_type": "code",
      "metadata": {
        "id": "Cz0yxhjCJEBm",
        "colab_type": "code",
        "colab": {}
      },
      "source": [
        "ids = tokenizer.encode('[BOS] The King must leave the throne now . [EOS]',\n",
        "                      return_tensors='pt')\n",
        "\n",
        "greedy_outputs = model.generate(ids, max_length=300)\n",
        "\n",
        "print(\"Output:\\n\" + 100 * '-')\n",
        "for i, greedy_output in enumerate(greedy_outputs):\n",
        "  print(\"\\n\"+\"===\"*10)\n",
        "  print(\"{}: {}\".format(i+1, tokenizer.decode(greedy_output, skip_special_tokens=False)))"
      ],
      "execution_count": null,
      "outputs": []
    },
    {
      "cell_type": "markdown",
      "metadata": {
        "id": "rllW7EwPMV2O",
        "colab_type": "text"
      },
      "source": [
        "## Beam Search\n",
        "It is a search algorithm which considers the probabilities of consequent no (num_beams) of words not like greedy search which simply selects word with highest probability. It then multiplies these probabilities with the previous ones for each case. Then, it selects the sequence of words which had higher overall probability after multiplication.\n",
        "\n",
        "The code for implementing beam search with our model is given below."
      ]
    },
    {
      "cell_type": "markdown",
      "metadata": {
        "id": "H41cbQ2iOG65",
        "colab_type": "text"
      },
      "source": [
        "We set num_beams > 1 and early_stopping=True so that generation is finished when all beam hypotheses reached the endprompts token."
      ]
    },
    {
      "cell_type": "code",
      "metadata": {
        "id": "mmANZqLXJGt9",
        "colab_type": "code",
        "colab": {}
      },
      "source": [
        "# activate beam search and early_stopping\n",
        "beam_output = model.generate(\n",
        "    ids, \n",
        "    max_length=300, \n",
        "    num_beams=4, \n",
        "    early_stopping=True\n",
        ")\n",
        "\n",
        "print(\"Output:\\n\" + 100 * '-')\n",
        "print(tokenizer.decode(beam_output[0], skip_special_tokens=True))"
      ],
      "execution_count": null,
      "outputs": []
    },
    {
      "cell_type": "markdown",
      "metadata": {
        "id": "KfF7Q8-6RddF",
        "colab_type": "text"
      },
      "source": [
        "# Sampling\n",
        "Sampling means randomly picking the next word according to its conditional probability distribution."
      ]
    },
    {
      "cell_type": "code",
      "metadata": {
        "id": "8cDU-YE0RY3y",
        "colab_type": "code",
        "colab": {}
      },
      "source": [
        "import tensorflow as tf"
      ],
      "execution_count": null,
      "outputs": []
    },
    {
      "cell_type": "code",
      "metadata": {
        "id": "AUC74nGbOa_c",
        "colab_type": "code",
        "colab": {}
      },
      "source": [
        "tf.random.set_seed(0)\n",
        "sample_output = model.generate(\n",
        "    ids, \n",
        "    do_sample=True, \n",
        "    max_length=300\n",
        ")\n",
        "\n",
        "print(\"Output:\\n\" + 100 * '-')\n",
        "print(tokenizer.decode(sample_output[0], skip_special_tokens=True))"
      ],
      "execution_count": null,
      "outputs": []
    },
    {
      "cell_type": "markdown",
      "metadata": {
        "id": "7u9P1KqkRx3L",
        "colab_type": "text"
      },
      "source": [
        "As we can see it produce much better results than previous ones and the text is also starting to make some sense."
      ]
    },
    {
      "cell_type": "markdown",
      "metadata": {
        "id": "OnMUEgxrS1MR",
        "colab_type": "text"
      },
      "source": [
        "## Top-K Sampling"
      ]
    },
    {
      "cell_type": "markdown",
      "metadata": {
        "id": "t1A3CC4JTwt4",
        "colab_type": "text"
      },
      "source": [
        "In Top-K sampling, the K most likely next words are filtered and the probability mass is redistributed among only those K next words."
      ]
    },
    {
      "cell_type": "code",
      "metadata": {
        "id": "8NoAxdcZObHC",
        "colab_type": "code",
        "colab": {}
      },
      "source": [
        "tf.random.set_seed(0)\n",
        "\n",
        "# set top_k to 50\n",
        "sample_output2 = model.generate(\n",
        "    ids, \n",
        "    do_sample=True, \n",
        "    max_length=300, \n",
        "    top_k=50\n",
        ")\n",
        "\n",
        "print(\"Output:\\n\" + 100 * '-')\n",
        "print(tokenizer.decode(sample_output2[0], skip_special_tokens=True))"
      ],
      "execution_count": null,
      "outputs": []
    },
    {
      "cell_type": "markdown",
      "metadata": {
        "id": "-9oiwPsjl3n5",
        "colab_type": "text"
      },
      "source": [
        "Now, after implementing top-k sampling, we should try out top-p sampling"
      ]
    },
    {
      "cell_type": "markdown",
      "metadata": {
        "id": "U-aYt_FOUTx6",
        "colab_type": "text"
      },
      "source": [
        "## Top-p (Nucleus) sampling"
      ]
    },
    {
      "cell_type": "markdown",
      "metadata": {
        "id": "M75hpAZeUshq",
        "colab_type": "text"
      },
      "source": [
        "It is selecting the highest probability tokens whose cumulative probability mass\n",
        "exceeds the pre-chosen threshold p."
      ]
    },
    {
      "cell_type": "code",
      "metadata": {
        "id": "zQzKSp3fUQ1E",
        "colab_type": "code",
        "colab": {}
      },
      "source": [
        "# set seed to reproduce results. Feel free to change the seed though to get different results\n",
        "tf.random.set_seed(0)\n",
        "\n",
        "# deactivate top_k sampling and sample only from 92% most likely words\n",
        "sample_output3 = model.generate(\n",
        "    ids, \n",
        "    do_sample=True, \n",
        "    max_length=300, \n",
        "    top_p=0.92,\n",
        ")\n",
        "\n",
        "print(\"Output:\\n\" + 100 * '-')\n",
        "print(tokenizer.decode(sample_output3[0], skip_special_tokens=True))"
      ],
      "execution_count": null,
      "outputs": []
    },
    {
      "cell_type": "markdown",
      "metadata": {
        "id": "fb8kBnOwVGfk",
        "colab_type": "text"
      },
      "source": [
        "## Combining Sampling"
      ]
    },
    {
      "cell_type": "code",
      "metadata": {
        "id": "zdJPuQuBUQyD",
        "colab_type": "code",
        "colab": {}
      },
      "source": [
        "# set seed to reproduce results. Feel free to change the seed though to get different results\n",
        "tf.random.set_seed(0)\n",
        "\n",
        "# set top_k = 50 and set top_p = 0.95 \n",
        "final_outputs = model.generate(\n",
        "    ids,\n",
        "    do_sample=True, \n",
        "    max_length=300, \n",
        "    top_k=40, \n",
        "    top_p=0.95, \n",
        ")\n",
        "\n",
        "print(\"Output:\\n\" + 100 * '-')\n",
        "for i, final_output in enumerate(final_outputs):\n",
        "  print(\"{}: {}\".format(i, tokenizer.decode(final_output, skip_special_tokens=True)))"
      ],
      "execution_count": null,
      "outputs": []
    }
  ]
}